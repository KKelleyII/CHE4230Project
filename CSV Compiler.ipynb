{
 "cells": [
  {
   "cell_type": "code",
   "execution_count": 2,
   "metadata": {},
   "outputs": [
    {
     "name": "stdout",
     "output_type": "stream",
     "text": [
      "Cleaning complete! The data has been saved to '/Users/kkelley/Desktop/CBB Results/CBB-Results/cbbga25_223Cleaned.csv'.\n"
     ]
    }
   ],
   "source": [
    "import re\n",
    "import csv\n",
    "\n",
    "# Define the file paths\n",
    "input_file = \"/Users/kkelley/Desktop/CBB Results/CBB-Results/cbbga25_223Updated.csv\" # Input CSV file\n",
    "output_file = \"/Users/kkelley/Desktop/CBB Results/CBB-Results/cbbga25_223Cleaned.csv\" # Output CSV file (with full path)\n",
    "\n",
    "# Read the input CSV\n",
    "with open(input_file, mode='r') as infile:\n",
    "\tlines = infile.readlines()\n",
    "\n",
    "# Prepare a list to store cleaned data\n",
    "cleaned_data = []\n",
    "\n",
    "# Define a regular expression to capture date, teams, and scores\n",
    "game_pattern = re.compile(r'(\\d{2}/\\d{2}/\\d{4})\\s+(.+?)\\s+(\\d+)\\s+(.+?)\\s+(\\d+)')\n",
    "\n",
    "# Loop through each line and process\n",
    "for line in lines:\n",
    "\tmatch = game_pattern.match(line.strip())\n",
    "\tif match:\n",
    "\t\tdate = match.group(1) # The date\n",
    "\t\tteam1 = match.group(2) # First team name\n",
    "\t\tscore1 = match.group(3) # First team's score\n",
    "\t\tteam2 = match.group(4) # Second team name\n",
    "\t\tscore2 = match.group(5) # Second team's score\n",
    "\n",
    "\t\t# Append the cleaned data to the list\n",
    "\t\tcleaned_data.append([date, team1, team2, score1, score2])\n",
    "\n",
    "# Write the cleaned data to a new CSV file\n",
    "with open(output_file, mode='w', newline='') as outfile:\n",
    "\twriter = csv.writer(outfile)\n",
    "\twriter.writerow(['Date', 'Team 1', 'Team 2', 'Score 1', 'Score 2']) # Header row\n",
    "\twriter.writerows(cleaned_data)\n",
    "\n",
    "print(f\"Cleaning complete! The data has been saved to '{output_file}'.\")"
   ]
  }
 ],
 "metadata": {
  "kernelspec": {
   "display_name": "base",
   "language": "python",
   "name": "python3"
  },
  "language_info": {
   "codemirror_mode": {
    "name": "ipython",
    "version": 3
   },
   "file_extension": ".py",
   "mimetype": "text/x-python",
   "name": "python",
   "nbconvert_exporter": "python",
   "pygments_lexer": "ipython3",
   "version": "3.12.2"
  }
 },
 "nbformat": 4,
 "nbformat_minor": 2
}
