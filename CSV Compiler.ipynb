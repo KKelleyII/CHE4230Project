{
 "cells": [
  {
   "cell_type": "code",
   "execution_count": 10,
   "metadata": {},
   "outputs": [
    {
     "ename": "PermissionError",
     "evalue": "[Errno 13] Permission denied: 'C:\\\\Users\\\\kevin\\\\CHE4230Project-1\\\\cbbga25_316Cleaned.csv'",
     "output_type": "error",
     "traceback": [
      "\u001b[1;31m---------------------------------------------------------------------------\u001b[0m",
      "\u001b[1;31mPermissionError\u001b[0m                           Traceback (most recent call last)",
      "Cell \u001b[1;32mIn[10], line 36\u001b[0m\n\u001b[0;32m     33\u001b[0m             cleaned_data\u001b[38;5;241m.\u001b[39mappend([date, team1, team2, score1, score2])\n\u001b[0;32m     35\u001b[0m \u001b[38;5;66;03m# Write the cleaned data to a new CSV file\u001b[39;00m\n\u001b[1;32m---> 36\u001b[0m \u001b[38;5;28;01mwith\u001b[39;00m \u001b[38;5;28;43mopen\u001b[39;49m\u001b[43m(\u001b[49m\u001b[43moutput_file\u001b[49m\u001b[43m,\u001b[49m\u001b[43m \u001b[49m\u001b[43mmode\u001b[49m\u001b[38;5;241;43m=\u001b[39;49m\u001b[38;5;124;43m'\u001b[39;49m\u001b[38;5;124;43mw\u001b[39;49m\u001b[38;5;124;43m'\u001b[39;49m\u001b[43m,\u001b[49m\u001b[43m \u001b[49m\u001b[43mnewline\u001b[49m\u001b[38;5;241;43m=\u001b[39;49m\u001b[38;5;124;43m'\u001b[39;49m\u001b[38;5;124;43m'\u001b[39;49m\u001b[43m)\u001b[49m \u001b[38;5;28;01mas\u001b[39;00m outfile:\n\u001b[0;32m     37\u001b[0m     writer \u001b[38;5;241m=\u001b[39m csv\u001b[38;5;241m.\u001b[39mwriter(outfile)\n\u001b[0;32m     38\u001b[0m     writer\u001b[38;5;241m.\u001b[39mwriterow([\u001b[38;5;124m'\u001b[39m\u001b[38;5;124mDate\u001b[39m\u001b[38;5;124m'\u001b[39m, \u001b[38;5;124m'\u001b[39m\u001b[38;5;124mTeam 1\u001b[39m\u001b[38;5;124m'\u001b[39m, \u001b[38;5;124m'\u001b[39m\u001b[38;5;124mTeam 2\u001b[39m\u001b[38;5;124m'\u001b[39m, \u001b[38;5;124m'\u001b[39m\u001b[38;5;124mScore 1\u001b[39m\u001b[38;5;124m'\u001b[39m, \u001b[38;5;124m'\u001b[39m\u001b[38;5;124mScore 2\u001b[39m\u001b[38;5;124m'\u001b[39m])  \u001b[38;5;66;03m# Header row\u001b[39;00m\n",
      "File \u001b[1;32mc:\\Users\\kevin\\anaconda3\\envs\\APCProject\\Lib\\site-packages\\IPython\\core\\interactiveshell.py:324\u001b[0m, in \u001b[0;36m_modified_open\u001b[1;34m(file, *args, **kwargs)\u001b[0m\n\u001b[0;32m    317\u001b[0m \u001b[38;5;28;01mif\u001b[39;00m file \u001b[38;5;129;01min\u001b[39;00m {\u001b[38;5;241m0\u001b[39m, \u001b[38;5;241m1\u001b[39m, \u001b[38;5;241m2\u001b[39m}:\n\u001b[0;32m    318\u001b[0m     \u001b[38;5;28;01mraise\u001b[39;00m \u001b[38;5;167;01mValueError\u001b[39;00m(\n\u001b[0;32m    319\u001b[0m         \u001b[38;5;124mf\u001b[39m\u001b[38;5;124m\"\u001b[39m\u001b[38;5;124mIPython won\u001b[39m\u001b[38;5;124m'\u001b[39m\u001b[38;5;124mt let you open fd=\u001b[39m\u001b[38;5;132;01m{\u001b[39;00mfile\u001b[38;5;132;01m}\u001b[39;00m\u001b[38;5;124m by default \u001b[39m\u001b[38;5;124m\"\u001b[39m\n\u001b[0;32m    320\u001b[0m         \u001b[38;5;124m\"\u001b[39m\u001b[38;5;124mas it is likely to crash IPython. If you know what you are doing, \u001b[39m\u001b[38;5;124m\"\u001b[39m\n\u001b[0;32m    321\u001b[0m         \u001b[38;5;124m\"\u001b[39m\u001b[38;5;124myou can use builtins\u001b[39m\u001b[38;5;124m'\u001b[39m\u001b[38;5;124m open.\u001b[39m\u001b[38;5;124m\"\u001b[39m\n\u001b[0;32m    322\u001b[0m     )\n\u001b[1;32m--> 324\u001b[0m \u001b[38;5;28;01mreturn\u001b[39;00m \u001b[43mio_open\u001b[49m\u001b[43m(\u001b[49m\u001b[43mfile\u001b[49m\u001b[43m,\u001b[49m\u001b[43m \u001b[49m\u001b[38;5;241;43m*\u001b[39;49m\u001b[43margs\u001b[49m\u001b[43m,\u001b[49m\u001b[43m \u001b[49m\u001b[38;5;241;43m*\u001b[39;49m\u001b[38;5;241;43m*\u001b[39;49m\u001b[43mkwargs\u001b[49m\u001b[43m)\u001b[49m\n",
      "\u001b[1;31mPermissionError\u001b[0m: [Errno 13] Permission denied: 'C:\\\\Users\\\\kevin\\\\CHE4230Project-1\\\\cbbga25_316Cleaned.csv'"
     ]
    }
   ],
   "source": [
    "import re\n",
    "import csv\n",
    "\n",
    "# Define the file paths\n",
    "input_file = r\"C:\\Users\\kevin\\CHE4230Project-1\\cbbga25_316.csv\"  # Input CSV file\n",
    "output_file = r\"C:\\Users\\kevin\\CHE4230Project-1\\cbbga25_316Cleaned.csv\"  # Output CSV file\n",
    "\n",
    "# Read the input CSV\n",
    "with open(input_file, mode='r') as infile:\n",
    "    lines = infile.readlines()\n",
    "\n",
    "# Prepare a list to store cleaned data\n",
    "cleaned_data = []\n",
    "\n",
    "# Define a regular expression to capture date, teams, and scores, while ignoring the location part\n",
    "game_pattern = re.compile(r'(\\d{2}/\\d{2}/\\d{4})\\s+(.+?)\\s+(\\d+)\\s+(.+?)\\s+(\\d+)(?:\\s*,\\s*.*)?')\n",
    "\n",
    "# Loop through each line and process\n",
    "for line in lines:\n",
    "    # Split by commas (if multiple games in a single line)\n",
    "    games = line.strip().split(',')  # Separate the games by commas\n",
    "\n",
    "    for game in games:\n",
    "        match = game_pattern.match(game.strip())  # Match the game pattern\n",
    "        if match:\n",
    "            date = match.group(1)  # The date\n",
    "            team1 = match.group(2)  # First team name\n",
    "            score1 = match.group(3)  # First team's score\n",
    "            team2 = match.group(4)  # Second team name\n",
    "            score2 = match.group(5)  # Second team's score\n",
    "\n",
    "            # Append the cleaned data to the list\n",
    "            cleaned_data.append([date, team1, team2, score1, score2])\n",
    "\n",
    "# Write the cleaned data to a new CSV file\n",
    "with open(output_file, mode='w', newline='') as outfile:\n",
    "    writer = csv.writer(outfile)\n",
    "    writer.writerow(['Date', 'Team 1', 'Team 2', 'Score 1', 'Score 2'])  # Header row\n",
    "    writer.writerows(cleaned_data)\n",
    "\n",
    "print(f\"Cleaning complete! The data has been saved to '{output_file}'.\")\n"
   ]
  }
 ],
 "metadata": {
  "kernelspec": {
   "display_name": "APCProject",
   "language": "python",
   "name": "python3"
  },
  "language_info": {
   "codemirror_mode": {
    "name": "ipython",
    "version": 3
   },
   "file_extension": ".py",
   "mimetype": "text/x-python",
   "name": "python",
   "nbconvert_exporter": "python",
   "pygments_lexer": "ipython3",
   "version": "3.11.9"
  }
 },
 "nbformat": 4,
 "nbformat_minor": 2
}
