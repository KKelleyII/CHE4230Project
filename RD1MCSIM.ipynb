{
 "cells": [
  {
   "cell_type": "code",
   "execution_count": 7,
   "metadata": {},
   "outputs": [
    {
     "name": "stdout",
     "output_type": "stream",
     "text": [
      "Full matchups data:\n",
      "            Team A            Team B  Win Prob A  Win Prob B  Seed A  Seed B\n",
      "0             Duke  Mount St. Mary's    0.994663    0.005337       1      16\n",
      "1          Alabama     Robert Morris    0.950324    0.049676       2      15\n",
      "2        Wisconsin           Montana    0.952144    0.047856       3      14\n",
      "3          Arizona             Akron    0.891537    0.108463       4      13\n",
      "4           Oregon           Liberty    0.663413    0.336587       5      12\n",
      "5              BYU               VCU    0.521589    0.478411       6      11\n",
      "6     Saint Mary's        Vanderbilt    0.719099    0.280901       7      10\n",
      "7  Mississippi St.            Baylor    0.490916    0.509084       8       9\n",
      "Number of matchups loaded: 8\n",
      "Round 1 winners: ['Duke', 'Alabama', 'Wisconsin', 'Arizona', 'Liberty', 'VCU', 'Vanderbilt', 'Baylor']\n"
     ]
    }
   ],
   "source": [
    "import pandas as pd \n",
    "import random\n",
    "\n",
    "# Historical seed performance (win probabilities for a seed matchup)\n",
    "seed_performance = {\n",
    "    1: 0.987, 2: 0.929, 3: 0.853, 4: 0.788, 5: 0.647, 6: 0.609, \n",
    "    7: 0.613, 8: 0.481, 9: 0.519, 10: 0.387, 11: 0.391, 12: 0.353, \n",
    "    13: 0.212, 14: 0.147, 15: 0.071, 16: 0.013\n",
    "}\n",
    "\n",
    "# Read matchups from Excel\n",
    "def read_matchups_from_excel(file_path):\n",
    "    df = pd.read_excel(file_path)\n",
    "    df.columns = df.columns.str.strip()  # Remove any leading/trailing spaces\n",
    "    return df[['Team A', 'Team B', 'Win Prob A', 'Win Prob B', 'Seed A', 'Seed B']]\n",
    "\n",
    "file_path = r\"C:\\Users\\kevin\\CHE4230Project-1\\EMCRD1.xlsx\"\n",
    "matchups_df = read_matchups_from_excel(file_path)\n",
    "\n",
    "# **DEBUGGING: Check if all matchups are loaded**\n",
    "print(\"Full matchups data:\")\n",
    "print(matchups_df.to_string())  # Print all rows\n",
    "print(f\"Number of matchups loaded: {matchups_df.shape[0]}\")  # Check row count\n",
    "\n",
    "# Simulate a game based on win probabilities and seed performance\n",
    "def simulate_game(win_prob_a, win_prob_b, seed_a, seed_b):\n",
    "    modifier_a = seed_performance.get(seed_a, 0.50)\n",
    "    modifier_b = seed_performance.get(seed_b, 0.50)\n",
    "    \n",
    "    adjusted_prob_a = max(0, min(win_prob_a * modifier_a, 1))\n",
    "    adjusted_prob_b = max(0, min(win_prob_b * modifier_b, 1))\n",
    "    \n",
    "    return random.random() < adjusted_prob_a\n",
    "\n",
    "# Simulate one round of the tournament\n",
    "def simulate_round(matchups, round_number, num_simulations=10000):\n",
    "    winners = []\n",
    "    \n",
    "    for _, matchup in matchups.iterrows():\n",
    "        team_a, team_b = matchup['Team A'], matchup['Team B']\n",
    "        prob_a, prob_b = matchup['Win Prob A'], matchup['Win Prob B']\n",
    "        seed_a, seed_b = matchup['Seed A'], matchup['Seed B']\n",
    "        \n",
    "        win_count_a = sum(simulate_game(prob_a, prob_b, seed_a, seed_b) for _ in range(num_simulations))\n",
    "        win_count_b = num_simulations - win_count_a\n",
    "        \n",
    "        winners.append(team_a if win_count_a > win_count_b else team_b)\n",
    "    \n",
    "    print(f\"Round {round_number} winners: {winners}\")\n",
    "    return winners\n",
    "\n",
    "# **CALL THE FUNCTION TO PRINT WINNERS**\n",
    "round_1_winners = simulate_round(matchups_df, round_number=1)\n",
    "\n",
    "\n",
    "\n"
   ]
  }
 ],
 "metadata": {
  "kernelspec": {
   "display_name": "APCProject",
   "language": "python",
   "name": "python3"
  },
  "language_info": {
   "codemirror_mode": {
    "name": "ipython",
    "version": 3
   },
   "file_extension": ".py",
   "mimetype": "text/x-python",
   "name": "python",
   "nbconvert_exporter": "python",
   "pygments_lexer": "ipython3",
   "version": "3.11.9"
  }
 },
 "nbformat": 4,
 "nbformat_minor": 2
}
